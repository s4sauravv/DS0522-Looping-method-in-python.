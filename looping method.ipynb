{
 "cells": [
  {
   "cell_type": "code",
   "execution_count": null,
   "id": "7b82dcba",
   "metadata": {},
   "outputs": [],
   "source": [
    "#looping statement-looping statement are used to repeat a task multiple times.\n",
    "#(like music player we set the song for loop to listen multiple times)\n",
    "#looping statement only work with true statement,if statement are wrong you'll be aotumatically go outside from loop\n",
    "#example of looping\n"
   ]
  },
  {
   "cell_type": "code",
   "execution_count": 4,
   "id": "53843a63",
   "metadata": {},
   "outputs": [
    {
     "name": "stdout",
     "output_type": "stream",
     "text": [
      "1\n",
      "2\n",
      "3\n",
      "4\n",
      "5\n",
      "6\n",
      "7\n",
      "8\n",
      "9\n",
      "10\n"
     ]
    }
   ],
   "source": [
    "i=1\n",
    "while i<=10:\n",
    "    print(i)\n",
    "    i=i+1"
   ]
  },
  {
   "cell_type": "code",
   "execution_count": null,
   "id": "fde93870",
   "metadata": {},
   "outputs": [],
   "source": [
    "#how to make 2 * 1=2 to 2*10=20 like table of 2"
   ]
  },
  {
   "cell_type": "code",
   "execution_count": 5,
   "id": "41703ad2",
   "metadata": {},
   "outputs": [
    {
     "name": "stdout",
     "output_type": "stream",
     "text": [
      "2 * 1 = 2\n",
      "2 * 2 = 4\n",
      "2 * 3 = 6\n",
      "2 * 4 = 8\n",
      "2 * 5 = 10\n",
      "2 * 6 = 12\n",
      "2 * 7 = 14\n",
      "2 * 8 = 16\n",
      "2 * 9 = 18\n",
      "2 * 10 = 20\n"
     ]
    }
   ],
   "source": [
    "n=2\n",
    "i=1\n",
    "while i<=10:\n",
    "    print(n,\"*\",i,\"=\",n*i)\n",
    "    i=i+1"
   ]
  },
  {
   "cell_type": "code",
   "execution_count": 11,
   "id": "a7dc79ed",
   "metadata": {},
   "outputs": [],
   "source": [
    "#how while working with list and add 100 to each of elements which can be present in list(l1)"
   ]
  },
  {
   "cell_type": "code",
   "execution_count": 7,
   "id": "4e1f9a7c",
   "metadata": {},
   "outputs": [],
   "source": [
    "l1=[1,2,3,4,5,6,7]"
   ]
  },
  {
   "cell_type": "code",
   "execution_count": 9,
   "id": "665639a7",
   "metadata": {},
   "outputs": [],
   "source": [
    "i=0\n",
    "while i<len(l1):\n",
    "    l1[i]=l1[i]+100\n",
    "    i=i+1"
   ]
  },
  {
   "cell_type": "code",
   "execution_count": 12,
   "id": "43a356c0",
   "metadata": {},
   "outputs": [
    {
     "data": {
      "text/plain": [
       "[101, 102, 103, 104, 105, 106, 107]"
      ]
     },
     "execution_count": 12,
     "metadata": {},
     "output_type": "execute_result"
    }
   ],
   "source": [
    "l1"
   ]
  },
  {
   "cell_type": "code",
   "execution_count": 14,
   "id": "657359ad",
   "metadata": {},
   "outputs": [],
   "source": [
    "#for loop is use to itrate a sequence\n",
    "#(tupple,list,dictionary)"
   ]
  },
  {
   "cell_type": "code",
   "execution_count": 18,
   "id": "a941adfe",
   "metadata": {},
   "outputs": [
    {
     "name": "stdout",
     "output_type": "stream",
     "text": [
      "i love mango\n",
      "i love apple\n",
      "i love grapes\n",
      "i love guava\n"
     ]
    }
   ],
   "source": [
    "l1=['mango','apple','grapes','guava']\n",
    "for i in l1:\n",
    "    print('i love',i)"
   ]
  },
  {
   "cell_type": "code",
   "execution_count": 17,
   "id": "2113135e",
   "metadata": {},
   "outputs": [],
   "source": [
    "#Nested for loops in multiple fo lopp"
   ]
  },
  {
   "cell_type": "code",
   "execution_count": 21,
   "id": "a1e0e7a1",
   "metadata": {},
   "outputs": [
    {
     "name": "stdout",
     "output_type": "stream",
     "text": [
      "orange book\n",
      "orange phone\n",
      "orange radio\n",
      "orange fan\n",
      "black book\n",
      "black phone\n",
      "black radio\n",
      "black fan\n",
      "white book\n",
      "white phone\n",
      "white radio\n",
      "white fan\n",
      "blue book\n",
      "blue phone\n",
      "blue radio\n",
      "blue fan\n"
     ]
    }
   ],
   "source": [
    "l1=['orange','black','white','blue']\n",
    "l2=['book','phone','radio','fan']\n",
    "for i in l1:\n",
    "    for j in l2:\n",
    "        print(i,j)"
   ]
  },
  {
   "cell_type": "code",
   "execution_count": 22,
   "id": "bb2509d5",
   "metadata": {},
   "outputs": [],
   "source": [
    "#how total the number whcih can be present in list"
   ]
  },
  {
   "cell_type": "code",
   "execution_count": 33,
   "id": "a79b928f",
   "metadata": {},
   "outputs": [],
   "source": [
    "lst=[1,2,3,4,5,6,7,8,9]\n"
   ]
  },
  {
   "cell_type": "code",
   "execution_count": 34,
   "id": "0b1b2bf3",
   "metadata": {},
   "outputs": [],
   "source": [
    "sum=0\n"
   ]
  },
  {
   "cell_type": "code",
   "execution_count": 35,
   "id": "c9e6c744",
   "metadata": {},
   "outputs": [
    {
     "name": "stdout",
     "output_type": "stream",
     "text": [
      "1\n",
      "3\n",
      "6\n",
      "10\n",
      "15\n",
      "21\n",
      "28\n",
      "36\n",
      "45\n",
      "52\n"
     ]
    }
   ],
   "source": [
    "for val in lst1:\n",
    "    sum=sum+val\n",
    "    print(sum)"
   ]
  },
  {
   "cell_type": "code",
   "execution_count": 36,
   "id": "3d99d6c5",
   "metadata": {},
   "outputs": [],
   "source": [
    "#for loop with else"
   ]
  },
  {
   "cell_type": "code",
   "execution_count": 40,
   "id": "0fdb399f",
   "metadata": {},
   "outputs": [
    {
     "name": "stdout",
     "output_type": "stream",
     "text": [
      "1\n",
      "5\n",
      "no item left\n"
     ]
    }
   ],
   "source": [
    "digits=[1,5]\n",
    "for i in digits:\n",
    "    print(i)\n",
    "else:\n",
    "    print('no item left')\n",
    "    "
   ]
  },
  {
   "cell_type": "code",
   "execution_count": null,
   "id": "723116aa",
   "metadata": {},
   "outputs": [],
   "source": [
    "#python by Shankar sir\n",
    "#Student of datatrained"
   ]
  }
 ],
 "metadata": {
  "kernelspec": {
   "display_name": "Python 3 (ipykernel)",
   "language": "python",
   "name": "python3"
  },
  "language_info": {
   "codemirror_mode": {
    "name": "ipython",
    "version": 3
   },
   "file_extension": ".py",
   "mimetype": "text/x-python",
   "name": "python",
   "nbconvert_exporter": "python",
   "pygments_lexer": "ipython3",
   "version": "3.9.7"
  }
 },
 "nbformat": 4,
 "nbformat_minor": 5
}
